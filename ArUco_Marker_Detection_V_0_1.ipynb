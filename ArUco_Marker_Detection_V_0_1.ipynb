{
  "nbformat": 4,
  "nbformat_minor": 0,
  "metadata": {
    "colab": {
      "provenance": [],
      "gpuType": "T4"
    },
    "kernelspec": {
      "name": "python3",
      "display_name": "Python 3"
    },
    "language_info": {
      "name": "python"
    },
    "accelerator": "GPU"
  },
  "cells": [
    {
      "cell_type": "code",
      "execution_count": null,
      "metadata": {
        "colab": {
          "base_uri": "https://localhost:8080/",
          "height": 417
        },
        "id": "kIZzXj752Mmz",
        "outputId": "cacc1abb-15b4-4782-fffc-a41ae536bb52"
      },
      "outputs": [
        {
          "output_type": "display_data",
          "data": {
            "text/plain": [
              "<PIL.Image.Image image mode=L size=400x400>"
            ],
            "image/png": "[encoded data removed]"
          },
          "metadata": {}
        }
      ],
      "source": [
        "import cv2 as cv\n",
        "from cv2 import aruco\n",
        "from google.colab.patches import cv2_imshow\n",
        "import os\n",
        "\n",
        "# dictionary to specify type of the marker\n",
        "marker_dict = aruco.getPredefinedDictionary(aruco.DICT_5X5_250)\n",
        "\n",
        "# MARKER_ID = 0\n",
        "MARKER_SIZE = 400  # pixels\n",
        "\n",
        "# Creating a directory to save markers\n",
        "os.makedirs('markers', exist_ok=True)\n",
        "\n",
        "# generating unique IDs using for loop\n",
        "for id in range(20):  # generating 20 markers\n",
        "    # using function to draw a marker\n",
        "    marker_image = aruco.generateImageMarker(marker_dict, id, MARKER_SIZE)\n",
        "    cv2_imshow(marker_image)\n",
        "    cv.imwrite(f\"markers/marker_{id}.png\", marker_image)\n",
        "    cv.waitKey(0)\n",
        "    break\n"
      ]
    },
    {
      "cell_type": "code",
      "source": [
        "import cv2 as cv\n",
        "from cv2 import aruco\n",
        "import numpy as np\n",
        "\n",
        "# dictionary to specify type of the marker\n",
        "marker_dict = aruco.getPredefinedDictionary(aruco.DICT_5X5_250)\n",
        "\n",
        "# detect the marker\n",
        "param_markers = aruco.DetectorParameters()\n",
        "\n",
        "# utilizes default camera/webcam driver\n",
        "cap = cv.VideoCapture(0)\n",
        "\n",
        "# iterate through multiple frames, in a live video feed\n",
        "while True:\n",
        "    ret, frame = cap.read()\n",
        "    if not ret:\n",
        "        break\n",
        "    # turning the frame to grayscale-only (for efficiency)\n",
        "    gray_frame = cv.cvtColor(frame, cv.COLOR_BGR2GRAY)\n",
        "    marker_corners, marker_IDs, reject = aruco.detectMarkers(\n",
        "        gray_frame, marker_dict, parameters=param_markers\n",
        "    )\n",
        "    # getting conrners of markers\n",
        "    if marker_corners:\n",
        "        for ids, corners in zip(marker_IDs, marker_corners):\n",
        "            cv.polylines(\n",
        "                frame, [corners.astype(np.int32)], True, (0, 255, 255), 4, cv.LINE_AA\n",
        "            )\n",
        "            corners = corners.reshape(4, 2)\n",
        "            corners = corners.astype(int)\n",
        "            top_right = corners[0].ravel()\n",
        "            top_left = corners[1].ravel()\n",
        "            bottom_right = corners[2].ravel()\n",
        "            bottom_left = corners[3].ravel()\n",
        "            cv.putText(\n",
        "                frame,\n",
        "                f\"id: {ids[0]}\",\n",
        "                top_right,\n",
        "                cv.FONT_HERSHEY_PLAIN,\n",
        "                1.3,\n",
        "                (200, 100, 0),\n",
        "                2,\n",
        "                cv.LINE_AA,\n",
        "            )\n",
        "            # print(ids, \"  \", corners)\n",
        "    cv.imshow(\"frame\", frame)\n",
        "    key = cv.waitKey(1)\n",
        "    if key == ord(\"q\"):\n",
        "        break\n",
        "cap.release()\n",
        "cv.destroyAllWindows()"
      ],
      "metadata": {
        "id": "uWVILeGb52nw"
      },
      "execution_count": null,
      "outputs": []
    }
  ]
}